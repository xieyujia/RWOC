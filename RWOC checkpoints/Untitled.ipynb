{
 "cells": [
  {
   "cell_type": "code",
   "execution_count": 1,
   "metadata": {},
   "outputs": [],
   "source": [
    "import numpy as np\n",
    "import torch\n",
    "import math"
   ]
  },
  {
   "cell_type": "code",
   "execution_count": 3,
   "metadata": {},
   "outputs": [
    {
     "data": {
      "text/plain": [
       "tensor([1., 1., 1.])"
      ]
     },
     "execution_count": 3,
     "metadata": {},
     "output_type": "execute_result"
    }
   ],
   "source": [
    "torch.ones(3)"
   ]
  },
  {
   "cell_type": "code",
   "execution_count": 17,
   "metadata": {},
   "outputs": [
    {
     "name": "stdout",
     "output_type": "stream",
     "text": [
      "tensor([[-1.2965]], dtype=torch.float64)\n",
      "tensor([[1.5933]], dtype=torch.float64)\n"
     ]
    }
   ],
   "source": [
    "print(torch.from_numpy(np.random.normal(0, 1, (1,1))))\n",
    "print(torch.from_numpy(np.random.normal(0, 1, (1,1))))"
   ]
  },
  {
   "cell_type": "code",
   "execution_count": 14,
   "metadata": {},
   "outputs": [
    {
     "data": {
      "text/plain": [
       "tensor([4, 3])"
      ]
     },
     "execution_count": 14,
     "metadata": {},
     "output_type": "execute_result"
    }
   ],
   "source": [
    "torch.tensor([2,1])*torch.tensor([2,3])"
   ]
  },
  {
   "cell_type": "code",
   "execution_count": 29,
   "metadata": {},
   "outputs": [],
   "source": [
    "def greenkhorn(a, b, M, reg, numItermax=10000, stopThr=1e-9, verbose=False,\n",
    "               log=False):\n",
    "    r\"\"\"\n",
    "    Solve the entropic regularization optimal transport problem and return the OT matrix\n",
    "\n",
    "    The algorithm used is based on the paper\n",
    "\n",
    "    Near-linear time approximation algorithms for optimal transport via Sinkhorn iteration\n",
    "        by Jason Altschuler, Jonathan Weed, Philippe Rigollet\n",
    "        appeared at NIPS 2017\n",
    "\n",
    "    which is a stochastic version of the Sinkhorn-Knopp algorithm [2].\n",
    "\n",
    "    The function solves the following optimization problem:\n",
    "\n",
    "    .. math::\n",
    "        \\gamma = arg\\min_\\gamma <\\gamma,M>_F + reg\\cdot\\Omega(\\gamma)\n",
    "\n",
    "        s.t. \\gamma 1 = a\n",
    "\n",
    "             \\gamma^T 1= b\n",
    "\n",
    "             \\gamma\\geq 0\n",
    "    where :\n",
    "\n",
    "    - M is the (dim_a, dim_b) metric cost matrix\n",
    "    - :math:`\\Omega` is the entropic regularization term :math:`\\Omega(\\gamma)=\\sum_{i,j} \\gamma_{i,j}\\log(\\gamma_{i,j})`\n",
    "    - a and b are source and target weights (histograms, both sum to 1)\n",
    "\n",
    "\n",
    "\n",
    "    Parameters\n",
    "    ----------\n",
    "    a : ndarray, shape (dim_a,)\n",
    "        samples weights in the source domain\n",
    "    b : ndarray, shape (dim_b,) or ndarray, shape (dim_b, n_hists)\n",
    "        samples in the target domain, compute sinkhorn with multiple targets\n",
    "        and fixed M if b is a matrix (return OT loss + dual variables in log)\n",
    "    M : ndarray, shape (dim_a, dim_b)\n",
    "        loss matrix\n",
    "    reg : float\n",
    "        Regularization term >0\n",
    "    numItermax : int, optional\n",
    "        Max number of iterations\n",
    "    stopThr : float, optional\n",
    "        Stop threshol on error (>0)\n",
    "    log : bool, optional\n",
    "        record log if True\n",
    "\n",
    "    Returns\n",
    "    -------\n",
    "    gamma : ndarray, shape (dim_a, dim_b)\n",
    "        Optimal transportation matrix for the given parameters\n",
    "    log : dict\n",
    "        log dictionary return only if log==True in parameters\n",
    "\n",
    "    Examples\n",
    "    --------\n",
    "\n",
    "    >>> import ot\n",
    "    >>> a=[.5, .5]\n",
    "    >>> b=[.5, .5]\n",
    "    >>> M=[[0., 1.], [1., 0.]]\n",
    "    >>> ot.bregman.greenkhorn(a, b, M, 1)\n",
    "    array([[0.36552929, 0.13447071],\n",
    "           [0.13447071, 0.36552929]])\n",
    "\n",
    "\n",
    "    References\n",
    "    ----------\n",
    "\n",
    "    .. [2] M. Cuturi, Sinkhorn Distances : Lightspeed Computation of Optimal Transport, Advances in Neural Information Processing Systems (NIPS) 26, 2013\n",
    "       [22] J. Altschuler, J.Weed, P. Rigollet : Near-linear time approximation algorithms for optimal transport via Sinkhorn iteration, Advances in Neural Information Processing Systems (NIPS) 31, 2017\n",
    "\n",
    "\n",
    "    See Also\n",
    "    --------\n",
    "    ot.lp.emd : Unregularized OT\n",
    "    ot.optim.cg : General regularized OT\n",
    "\n",
    "    \"\"\"\n",
    "\n",
    "    a = np.asarray(a, dtype=np.float64)\n",
    "    b = np.asarray(b, dtype=np.float64)\n",
    "    M = np.asarray(M, dtype=np.float64)\n",
    "\n",
    "    if len(a) == 0:\n",
    "        a = np.ones((M.shape[0],), dtype=np.float64) / M.shape[0]\n",
    "    if len(b) == 0:\n",
    "        b = np.ones((M.shape[1],), dtype=np.float64) / M.shape[1]\n",
    "\n",
    "    dim_a = a.shape[0]\n",
    "    dim_b = b.shape[0]\n",
    "\n",
    "    # Next 3 lines equivalent to K= np.exp(-M/reg), but faster to compute\n",
    "    K = np.empty_like(M)\n",
    "    np.divide(M, -reg, out=K)\n",
    "    np.exp(K, out=K)\n",
    "\n",
    "    u = np.full(dim_a, 1. / dim_a)\n",
    "    v = np.full(dim_b, 1. / dim_b)\n",
    "    G = u[:, np.newaxis] * K * v[np.newaxis, :]\n",
    "    #print(u)\n",
    "    print(u[:, np.newaxis])\n",
    "    print(K)\n",
    "    print(v[np.newaxis, :])\n",
    "    print(G)\n",
    "    #print(G.sum(0))\n",
    "    #print(G.sum(1))\n",
    "    viol = G.sum(1) - a\n",
    "    viol_2 = G.sum(0) - b\n",
    "    stopThr_val = 1\n",
    "    #print(viol)\n",
    "    #print(viol_2)\n",
    "    if log:\n",
    "        log = dict()\n",
    "        log['u'] = u\n",
    "        log['v'] = v\n",
    "\n",
    "    for i in range(numItermax):\n",
    "        i_1 = np.argmax(np.abs(viol))\n",
    "        i_2 = np.argmax(np.abs(viol_2))\n",
    "        m_viol_1 = np.abs(viol[i_1])\n",
    "        m_viol_2 = np.abs(viol_2[i_2])\n",
    "        stopThr_val = np.maximum(m_viol_1, m_viol_2)\n",
    "\n",
    "        if m_viol_1 > m_viol_2:\n",
    "            old_u = u[i_1]\n",
    "            u[i_1] = a[i_1] / (K[i_1, :].dot(v))\n",
    "            G[i_1, :] = u[i_1] * K[i_1, :] * v\n",
    "\n",
    "            viol[i_1] = u[i_1] * K[i_1, :].dot(v) - a[i_1]\n",
    "            viol_2 += (K[i_1, :].T * (u[i_1] - old_u) * v)\n",
    "\n",
    "        else:\n",
    "            old_v = v[i_2]\n",
    "            \n",
    "            v[i_2] = b[i_2] / (K[:, i_2].T.dot(u))\n",
    "            G[:, i_2] = u * K[:, i_2] * v[i_2]\n",
    "            #aviol = (G@one_m - a)\n",
    "            #aviol_2 = (G.T@one_n - b)\n",
    "            viol += (-old_v + v[i_2]) * K[:, i_2] * u\n",
    "            viol_2[i_2] = v[i_2] * K[:, i_2].dot(u) - b[i_2]\n",
    "\n",
    "            #print('b',np.max(abs(aviol -viol)),np.max(abs(aviol_2 - viol_2)))\n",
    "\n",
    "        if stopThr_val <= stopThr:\n",
    "            break\n",
    "    else:\n",
    "        print('Warning: Algorithm did not converge')\n",
    "\n",
    "    if log:\n",
    "        log['u'] = u\n",
    "        log['v'] = v\n",
    "\n",
    "    if log:\n",
    "        return G, log\n",
    "    else:\n",
    "        return G"
   ]
  },
  {
   "cell_type": "code",
   "execution_count": 30,
   "metadata": {},
   "outputs": [],
   "source": [
    "a=[.5, .5]\n",
    "b=[.5, .5]\n",
    "M=[[0., 1.], [1., 0.]]"
   ]
  },
  {
   "cell_type": "code",
   "execution_count": 31,
   "metadata": {},
   "outputs": [
    {
     "name": "stdout",
     "output_type": "stream",
     "text": [
      "[[0.5]\n",
      " [0.5]]\n",
      "[[1.         0.36787944]\n",
      " [0.36787944 1.        ]]\n",
      "[[0.5 0.5]]\n",
      "[[0.25       0.09196986]\n",
      " [0.09196986 0.25      ]]\n"
     ]
    },
    {
     "data": {
      "text/plain": [
       "array([[0.36552929, 0.13447071],\n",
       "       [0.13447071, 0.36552929]])"
      ]
     },
     "execution_count": 31,
     "metadata": {},
     "output_type": "execute_result"
    }
   ],
   "source": [
    "greenkhorn(a, b, M, 1)"
   ]
  },
  {
   "cell_type": "code",
   "execution_count": 25,
   "metadata": {},
   "outputs": [],
   "source": [
    "A=np.array([[1,0.36787944],[0.36787944,1]])\n",
    "B=np.array([[0.5],[0.5]])"
   ]
  },
  {
   "cell_type": "code",
   "execution_count": 27,
   "metadata": {},
   "outputs": [
    {
     "data": {
      "text/plain": [
       "array([[0.5       , 0.18393972],\n",
       "       [0.18393972, 0.5       ]])"
      ]
     },
     "execution_count": 27,
     "metadata": {},
     "output_type": "execute_result"
    }
   ],
   "source": [
    "B*A"
   ]
  },
  {
   "cell_type": "code",
   "execution_count": 28,
   "metadata": {},
   "outputs": [
    {
     "data": {
      "text/plain": [
       "array([[0.5       , 0.18393972],\n",
       "       [0.18393972, 0.5       ]])"
      ]
     },
     "execution_count": 28,
     "metadata": {},
     "output_type": "execute_result"
    }
   ],
   "source": [
    "A*B"
   ]
  },
  {
   "cell_type": "code",
   "execution_count": 1,
   "metadata": {},
   "outputs": [
    {
     "data": {
      "text/plain": [
       "1"
      ]
     },
     "execution_count": 1,
     "metadata": {},
     "output_type": "execute_result"
    }
   ],
   "source": [
    "abs(-1)"
   ]
  },
  {
   "cell_type": "code",
   "execution_count": null,
   "metadata": {},
   "outputs": [],
   "source": []
  }
 ],
 "metadata": {
  "kernelspec": {
   "display_name": "Python 3",
   "language": "python",
   "name": "python3"
  },
  "language_info": {
   "codemirror_mode": {
    "name": "ipython",
    "version": 3
   },
   "file_extension": ".py",
   "mimetype": "text/x-python",
   "name": "python",
   "nbconvert_exporter": "python",
   "pygments_lexer": "ipython3",
   "version": "3.6.6"
  }
 },
 "nbformat": 4,
 "nbformat_minor": 2
}
